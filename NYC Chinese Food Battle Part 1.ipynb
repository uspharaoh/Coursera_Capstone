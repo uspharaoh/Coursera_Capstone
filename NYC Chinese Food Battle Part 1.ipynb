{
    "cells": [
        {
            "metadata": {
                "collapsed": true
            },
            "cell_type": "markdown",
            "source": "##  Battle Of The Neighborhoods: Best Chinese Resturant in New York \n\nNew York City has a long history of being a center of multicultrualism in the Modern United States, with the various Asian Cultures leaving their mark in this melting pot of the West. this project in particular will be focusing on listing and visualizing which of the New york neighborhoods have great Chinese food spots."
        },
        {
            "metadata": {},
            "cell_type": "markdown",
            "source": "## Data\n\nFor this project we need the following data :\n\n    New York City data that contains list Boroughs, Neighborhoods along with their latitude and longitude.\n       - Data source : https://cocl.us/new_york_dataset\n       - Description : This data set contains the required information. And we will use this data set to explore various neighborhoods of new york city.\n    Chinese resturants in each neighborhood of NYC\n       - Data source : Fousquare API\n       - Description : By using this api we will get all the venues in each neighborhood. We can filter these venues to get only Chinese resturants.\n    GeoSpace data\n       - Data source : https://data.cityofnewyork.us/City-Government/Borough-Boundaries/tqmj-j8zm\n       - Description : By using this geo space data we will get the New york Borough boundaries that will help us visualize choropleth map."
        },
        {
            "metadata": {},
            "cell_type": "markdown",
            "source": "## Approach\n\n   - Collect the new york city data from https://cocl.us/new_york_dataset\n   - Using FourSquare API we will find all venues for each neighborhood.\n   - Filter out all venues that are Chinese Resturants.\n   - Find rating , tips and like count for each Chinese Resturants using FourSquare API.\n   - Using rating for each resturant , we will sort that data.\n   - Visualize the Ranking of neighborhoods using folium library(python)\n"
        },
        {
            "metadata": {},
            "cell_type": "markdown",
            "source": "# Questions To Answer \n\n- What is the best location in NYC for Chinese Cusine? \n- Which areas have potential Chinese Resturaunt Markets? \n- Which areas lack Chinese Resturaunts? \n- Which is the best place to peoples preference? "
        },
        {
            "metadata": {},
            "cell_type": "markdown",
            "source": "# Analysis \n\nLibraries will be imported below"
        },
        {
            "metadata": {},
            "cell_type": "code",
            "source": "",
            "execution_count": 13,
            "outputs": [
                {
                    "output_type": "error",
                    "ename": "SyntaxError",
                    "evalue": "invalid syntax (<ipython-input-13-55f7c90dce55>, line 1)",
                    "traceback": [
                        "\u001b[0;36m  File \u001b[0;32m\"<ipython-input-13-55f7c90dce55>\"\u001b[0;36m, line \u001b[0;32m1\u001b[0m\n\u001b[0;31m    -m pip install folium\u001b[0m\n\u001b[0m         ^\u001b[0m\n\u001b[0;31mSyntaxError\u001b[0m\u001b[0;31m:\u001b[0m invalid syntax\n"
                    ]
                }
            ]
        },
        {
            "metadata": {},
            "cell_type": "code",
            "source": "import pandas as pd\nimport numpy as np\npd.set_option('display.max_columns', None)\npd.set_option('display.max_rows', None)\nimport requests\nfrom bs4 import BeautifulSoup\nimport os\nimport matplotlib.pyplot as plt\nimport matplotlib.cm as cm\nimport matplotlib.colors as colors\n%matplotlib inline\n\n\nprint('Libraries imported.')",
            "execution_count": 5,
            "outputs": [
                {
                    "output_type": "stream",
                    "text": "Libraries imported.\n",
                    "name": "stdout"
                }
            ]
        },
        {
            "metadata": {},
            "cell_type": "code",
            "source": "",
            "execution_count": 7,
            "outputs": [
                {
                    "output_type": "error",
                    "ename": "SyntaxError",
                    "evalue": "invalid syntax (<ipython-input-7-c6aa6b65f277>, line 1)",
                    "traceback": [
                        "\u001b[0;36m  File \u001b[0;32m\"<ipython-input-7-c6aa6b65f277>\"\u001b[0;36m, line \u001b[0;32m1\u001b[0m\n\u001b[0;31m    $ pip install geocoder\u001b[0m\n\u001b[0m    ^\u001b[0m\n\u001b[0;31mSyntaxError\u001b[0m\u001b[0;31m:\u001b[0m invalid syntax\n"
                    ]
                }
            ]
        },
        {
            "metadata": {},
            "cell_type": "code",
            "source": "",
            "execution_count": null,
            "outputs": []
        }
    ],
    "metadata": {
        "kernelspec": {
            "name": "python3",
            "display_name": "Python 3.6",
            "language": "python"
        },
        "language_info": {
            "name": "python",
            "version": "3.6.9",
            "mimetype": "text/x-python",
            "codemirror_mode": {
                "name": "ipython",
                "version": 3
            },
            "pygments_lexer": "ipython3",
            "nbconvert_exporter": "python",
            "file_extension": ".py"
        }
    },
    "nbformat": 4,
    "nbformat_minor": 1
}